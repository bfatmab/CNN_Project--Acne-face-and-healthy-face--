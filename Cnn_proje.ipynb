{
  "nbformat": 4,
  "nbformat_minor": 0,
  "metadata": {
    "colab": {
      "provenance": [],
      "gpuType": "T4",
      "authorship_tag": "ABX9TyOq8rmVfizaSZd41arPt1Lm",
      "include_colab_link": true
    },
    "kernelspec": {
      "name": "python3",
      "display_name": "Python 3"
    },
    "language_info": {
      "name": "python"
    },
    "accelerator": "GPU"
  },
  "cells": [
    {
      "cell_type": "markdown",
      "metadata": {
        "id": "view-in-github",
        "colab_type": "text"
      },
      "source": [
        "<a href=\"https://colab.research.google.com/github/bfatmab/CNN_Project--Acne-face-and-healthy-face--/blob/main/Cnn_proje.ipynb\" target=\"_parent\"><img src=\"https://colab.research.google.com/assets/colab-badge.svg\" alt=\"Open In Colab\"/></a>"
      ]
    },
    {
      "cell_type": "code",
      "execution_count": null,
      "metadata": {
        "id": "SDVtRxtUKqxj",
        "colab": {
          "base_uri": "https://localhost:8080/"
        },
        "outputId": "53383cb8-d32f-4bfc-d42d-13295fd1cd58"
      },
      "outputs": [
        {
          "output_type": "stream",
          "name": "stdout",
          "text": [
            "Mounted at /content/gdrive\n"
          ]
        }
      ],
      "source": [
        "# google drive bağlantısı\n",
        "from google.colab import drive\n",
        "drive.mount('/content/gdrive')"
      ]
    },
    {
      "cell_type": "code",
      "execution_count": null,
      "metadata": {
        "colab": {
          "base_uri": "https://localhost:8080/"
        },
        "id": "d7sM0i3NaHEI",
        "outputId": "f71bf4cf-1298-41e7-8b42-a34eac1d1874"
      },
      "outputs": [
        {
          "output_type": "stream",
          "name": "stdout",
          "text": [
            "/content/gdrive/My Drive/CNN_Proje\n"
          ]
        }
      ],
      "source": [
        "# from tensorflow.python import data\n",
        "%cd gdrive/My Drive/CNN_Proje/"
      ]
    },
    {
      "cell_type": "code",
      "execution_count": null,
      "metadata": {
        "id": "ZltxrOOMczpq"
      },
      "outputs": [],
      "source": [
        "from keras.preprocessing.image import ImageDataGenerator\n",
        "from keras.models import Sequential\n",
        "from keras.layers import Conv2D,MaxPool2D\n",
        "from keras.layers import Activation,Dropout,Flatten,Dense\n",
        "from keras import backend as K\n",
        "\n",
        "\n",
        "# Giris olarak verilecek görüntülerin boyutları\n",
        "img_width,img_height=224,224\n",
        "\n",
        "train_data_yolu='data/train'\n",
        "validation_dosya_yolu='data/validation'\n",
        "train_ornek_sayisi=1400\n",
        "validation_ornek_sayisi=200\n",
        "epochs=50\n",
        "batch_boyut=5\n",
        " #her seferinde egitim icin alinacak veri miktari\n",
        "#  train örnek sayısı ile validation örnek sayısı ile batch boyutu tam bölünmeli\n",
        "\n",
        "if K.image_data_format()=='channels_first':\n",
        "  input_shape = (3,img_width,img_height)\n",
        "else:\n",
        "    input_shape = (img_width,img_height,3)\n",
        "\n",
        "\n",
        "\n",
        "\n",
        "\n",
        "\n"
      ]
    },
    {
      "cell_type": "code",
      "execution_count": null,
      "metadata": {
        "id": "NG-1opVjfd1w"
      },
      "outputs": [],
      "source": [
        "from keras.layers.pooling.max_pooling2d import MaxPooling2D\n",
        "# Model oluşturma\n",
        "model=Sequential()\n",
        "\n",
        "# Giris katmanı ve Conv1\n",
        "model.add(Conv2D(32,(3,3),input_shape=input_shape))\n",
        "model.add(Activation('relu'))\n",
        "model.add(MaxPooling2D(pool_size=(2,2)))\n",
        "\n",
        "#Conv2\n",
        "model.add(Conv2D(32,(5,5)))\n",
        "model.add(Conv2D(32,(3,3)))\n",
        "model.add(Activation('relu'))\n",
        "model.add(MaxPooling2D(pool_size=(2,2)))\n",
        "\n",
        "#Conv3\n",
        "model.add(Conv2D(64,(3,3)))\n",
        "model.add(Activation('relu'))\n",
        "model.add(MaxPooling2D(pool_size=(2,2)))\n",
        "\n",
        "#Flatten Duzleştirme\n",
        "model.add(Flatten())\n",
        "\n",
        "#Dense=FC (Fully Connected Layer Oluşturuluyor)\n",
        "model.add(Dense(100))    #64 nöron sayısı\n",
        "model.add(Activation('relu'))\n",
        "model.add(Dropout(0.5))   #Dropout Factorization\n",
        "model.add(Dense(1))       # 2 tane class var ise tek bir çıkış(evet-hayır) gibi\n",
        "# binary sınıflama için: model.add(Dense(1))\n",
        "model.add(Activation('softmax'))\n",
        "\n",
        "# Model derleme\n",
        "model.compile(loss='binary_crossentropy',optimizer='rmsprop',metrics=['accuracy'])\n",
        "\n",
        "\n",
        "\n",
        "#binary_crossentropy\n",
        "\n",
        "\n"
      ]
    },
    {
      "cell_type": "code",
      "source": [
        "# Train işlemi için kullanılan verileri çoğaltıyor\n",
        "train_datalar = ImageDataGenerator (\n",
        "    rescale=1./255,\n",
        "    shear_range=0.2,\n",
        "    zoom_range=0.2,\n",
        "    horizontal_flip=True\n",
        ")\n",
        "\n",
        "# Test işlemi için görüntüleri rescale boyutlandırma yapıyor\n",
        "test_datalar = ImageDataGenerator(rescale=1./255)\n",
        "\n",
        "train_generator = train_datalar.flow_from_directory(\n",
        "    train_data_yolu,\n",
        "    target_size=(img_width, img_height),\n",
        "    batch_size=batch_boyut,\n",
        "    class_mode='binary'\n",
        ")\n",
        "\n",
        "\n",
        "\n",
        "validation_generator = test_datalar.flow_from_directory(\n",
        "    validation_dosya_yolu,\n",
        "    target_size=(img_width, img_height),\n",
        "    batch_size=batch_boyut,\n",
        "    class_mode='binary'\n",
        ")\n"
      ],
      "metadata": {
        "colab": {
          "base_uri": "https://localhost:8080/"
        },
        "id": "WyyVYouxMQs1",
        "outputId": "7e00e3a2-cbfc-4688-c613-53f9157c0a62"
      },
      "execution_count": null,
      "outputs": [
        {
          "output_type": "stream",
          "name": "stdout",
          "text": [
            "Found 1400 images belonging to 2 classes.\n",
            "Found 600 images belonging to 2 classes.\n"
          ]
        }
      ]
    },
    {
      "cell_type": "code",
      "source": [
        "class_indices = {'akne': 1, 'sağlıklı': 0}"
      ],
      "metadata": {
        "id": "kuLbosNZJKxK"
      },
      "execution_count": null,
      "outputs": []
    },
    {
      "cell_type": "code",
      "execution_count": null,
      "metadata": {
        "id": "vp6rFTsY9zrW"
      },
      "outputs": [],
      "source": [
        "#Model eğitimi\n",
        "model.fit_generator(\n",
        "    train_generator,\n",
        "    steps_per_epoch=train_ornek_sayisi   //batch_boyut,\n",
        "    epochs=epochs,\n",
        "    validation_data=validation_generator,\n",
        "    validation_steps=validation_ornek_sayisi    //batch_boyut\n",
        ")"
      ]
    },
    {
      "cell_type": "code",
      "source": [
        "# Modelinizi eğittikten sonra doğrulama seti üzerinde değerlendirme yapın\n",
        "evaluation_results = model.evaluate(validation_generator)\n",
        "\n",
        "# Başarı yüzdesini elde edin ve yüzde olarak formatlayın\n",
        "accuracy = evaluation_results[1] * 100  # Doğruluk metriğini yüzdeye çevirin\n",
        "\n",
        "# Sonucu ekrana yazdırın\n",
        "print(\"Doğrulama setindeki başarı yüzdesi: {:.2f}%\".format(accuracy))\n",
        "\n"
      ],
      "metadata": {
        "id": "fRCeOs3QR5cz",
        "colab": {
          "base_uri": "https://localhost:8080/"
        },
        "outputId": "e395cec9-c0c2-4249-f233-3f9f0921c79c"
      },
      "execution_count": null,
      "outputs": [
        {
          "output_type": "stream",
          "name": "stdout",
          "text": [
            "120/120 [==============================] - 134s 1s/step - loss: 0.6934 - accuracy: 0.5000\n",
            "Doğrulama setindeki başarı yüzdesi: 50.00%\n"
          ]
        }
      ]
    },
    {
      "cell_type": "code",
      "source": [
        "\n",
        "# Modelinizi eğittikten sonra doğrulama seti üzerinde değerlendirme yapın\n",
        "evaluation_results = model.evaluate(train_generator)\n",
        "\n",
        "# Başarı yüzdesini elde edin\n",
        "accuracy = evaluation_results[1]*100  # İndeks 1 genellikle doğruluk (accuracy) metriğini temsil eder\n",
        "\n",
        "# Sonucu ekrana yazdırın\n",
        "print(\"Doğrulama setindeki başarı yüzdesi: {:.2f}%\".format(accuracy))\n"
      ],
      "metadata": {
        "colab": {
          "base_uri": "https://localhost:8080/"
        },
        "id": "k551BG7gTblC",
        "outputId": "8b04b3ff-2744-4994-adb3-07cb83efbe89"
      },
      "execution_count": null,
      "outputs": [
        {
          "output_type": "stream",
          "name": "stdout",
          "text": [
            "280/280 [==============================] - 559s 2s/step - loss: 0.6942 - accuracy: 0.5000\n",
            "Doğrulama setindeki başarı yüzdesi: 50.00%\n"
          ]
        }
      ]
    },
    {
      "cell_type": "code",
      "execution_count": null,
      "metadata": {
        "id": "MQR38_RK_vR0"
      },
      "outputs": [],
      "source": [
        "#Model weightler rastsal olduğu için başarılı sonuçları kourmak için model kaydeder\n",
        "model.save_weights('basarili_model_a.h5')\n"
      ]
    },
    {
      "cell_type": "code",
      "execution_count": null,
      "metadata": {
        "id": "_FPHcjY-_9fH"
      },
      "outputs": [],
      "source": [
        "# import tensorflow as tf\n",
        "# from tensorflow.keras.preprocessing.image import load_img, img_to_array\n",
        "\n",
        "# # Model yüklenir ve ağırlıklar yüklenir\n",
        "# model.load_weights('basarili_model_h.h5')\n",
        "\n",
        "# # Test edilecek görüntü yüklenir ve diziye dönüştürülür\n",
        "# img = load_img('deneme5.jpg', grayscale=False, color_mode='rgb', target_size=(img_width, img_height))\n",
        "# X = img_to_array(img)\n",
        "# X = X.reshape((1, img_width, img_height, 3))\n",
        "\n",
        "# # Tahmin yapılır\n",
        "# prediction = model.predict(X)\n",
        "# binary_prediction = 1 if prediction > 0.5 else 0\n",
        "\n",
        "# print(binary_prediction)\n",
        "\n",
        "\n",
        "\n",
        "\n",
        "\n",
        "\n",
        "\n",
        "\n",
        "\n",
        "\n",
        "\n",
        "import tensorflow as tf\n",
        "from tensorflow.keras.preprocessing.image import load_img, img_to_array\n",
        "\n",
        "# Model yüklenir ve ağırlıklar yüklenir\n",
        "model.load_weights('basarili_model_a.h5')\n",
        "\n",
        "# Test edilecek görüntü yüklenir ve diziye dönüştürülür\n",
        "img = load_img('deneme5.jpg', grayscale=False, color_mode='rgb', target_size=(img_width, img_height))\n",
        "X = img_to_array(img)\n",
        "X = X.reshape((1, img_width, img_height, 3))\n",
        "\n",
        "# Tahmin yapılır\n",
        "prediction = model.predict(X)\n",
        "binary_prediction = 1 if prediction > 0.5 else 0\n",
        "\n",
        "# Tahmin doğruluk oranı hesaplanır\n",
        "accuracy = prediction[0][0] * 100\n",
        "\n",
        "if binary_prediction == 0:\n",
        "    accuracy = 100 - accuracy\n",
        "\n",
        "print(\"Tahmin: %d\" % binary_prediction)\n",
        "print(\"Başarım Oranı: %.2f%%\" % accuracy)\n",
        "\n",
        "\n",
        "\n",
        "\n",
        "\n",
        "\n",
        "\n"
      ]
    }
  ]
}